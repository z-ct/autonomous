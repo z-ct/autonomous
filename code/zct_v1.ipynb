{
 "cells": [
  {
   "cell_type": "code",
   "execution_count": 137,
   "metadata": {
    "collapsed": true
   },
   "outputs": [],
   "source": [
    "import numpy as np"
   ]
  },
  {
   "cell_type": "code",
   "execution_count": 138,
   "metadata": {
    "collapsed": true
   },
   "outputs": [],
   "source": [
    "class Car:\n",
    "    def __init__(self, id, bid, budget):\n",
    "        self.id = id\n",
    "        self.bid = bid\n",
    "        self.budget = budget\n",
    "        self.ledger = 0\n",
    "        \n",
    "    def compCar(self, other):\n",
    "        #self wins\n",
    "        if self.bid > other.bid:\n",
    "            self.budget -= other.bid\n",
    "            self.ledger -= other.bid\n",
    "            return self\n",
    "        #other wins\n",
    "        elif other.bid > self.bid:\n",
    "            other.budget -= self.bid\n",
    "            other.ledger -= self.bid\n",
    "            return other"
   ]
  },
  {
   "cell_type": "code",
   "execution_count": 139,
   "metadata": {
    "collapsed": false
   },
   "outputs": [
    {
     "name": "stdout",
     "output_type": "stream",
     "text": [
      "[[None, None], [None, None], [None, None], [None, None]]\n",
      "[[None, <__main__.Car object at 0x109cfd668>], [<__main__.Car object at 0x109cfd5c0>, <__main__.Car object at 0x109d44cc0>], [None, None], [None, None]]\n"
     ]
    }
   ],
   "source": [
    "class Road:\n",
    "    def __init__(self, length, lanes):\n",
    "        self.road = [[None for x in range(lanes)] for y in range(length)]\n",
    "        self.length = length\n",
    "        self.lanes = lanes\n",
    "        \n",
    "    def generate(self, nCars):\n",
    "        idx = 0\n",
    "        while idx < nCars:\n",
    "            car = Car(idx, np.random.uniform(low=1.0, high = 10.0))\n",
    "            i, j = np.random.randint(low=0, high=self.length), np.random.randint(low=0, high=self.lanes)\n",
    "            if self.road[i][j] is None:\n",
    "                self.road[i][j] = car\n",
    "                idx += 1\n",
    "                \n",
    "        print(self.road)\n",
    "        \n",
    "testRoad = Road(4, 2)\n",
    "testRoad = Road(4,2)\n",
    "print(testRoad.road)\n",
    "testRoad.road[0][1] = Car(0, 5, 50)\n",
    "testRoad.road[1][0] = Car(1, 7, 50)\n",
    "testRoad.road[1][1] = Car(2, 4.5, 50)\n",
    "print(testRoad.road)\n",
    "\n",
    "#road.generate(3)"
   ]
  },
  {
   "cell_type": "code",
   "execution_count": 140,
   "metadata": {
    "collapsed": false
   },
   "outputs": [],
   "source": [
    "def runProg(road):\n",
    "    for i in range(1, road.length):\n",
    "        #check if both lanes are occupied\n",
    "        if road.road[i][0] is not None and road.road[i][1] is not None:\n",
    "            tempIDleft = road.road[i][0].id\n",
    "            tempIDright = road.road[i][1].id\n",
    "            winner = road.road[i][0].compCar(road.road[i][1])\n",
    "            if winner.id == tempIDleft:\n",
    "                #left car won make the position None\n",
    "                road.road[i][0] = None\n",
    "            else:\n",
    "                #right car won make the position None\n",
    "                road.road[i][1] = None\n",
    "            #check if there is a car in the way in left lane and right lane open\n",
    "            if road.road[i-1][0] is not None and road.road[i-1][1] is None:\n",
    "                #move winner to the lane up 1 and to the right\n",
    "                road.road[i-1][1] = winner\n",
    "            #check if there is a car in the way in left lane and right lane open\n",
    "            elif road.road[i-1][0] is None and road.road[i-1][1] is not None:\n",
    "                #move winner to the lane up 1 and to the left\n",
    "                road.road[i-1][0] = winner\n",
    "        print(i, road.road)\n",
    "        print('*****')"
   ]
  },
  {
   "cell_type": "code",
   "execution_count": 141,
   "metadata": {
    "collapsed": false
   },
   "outputs": [
    {
     "name": "stdout",
     "output_type": "stream",
     "text": [
      "initial [[None, <__main__.Car object at 0x109cfd668>], [<__main__.Car object at 0x109cfd5c0>, <__main__.Car object at 0x109d44cc0>], [None, None], [None, None]]\n",
      "*****\n"
     ]
    }
   ],
   "source": [
    "print('initial', testRoad.road)\n",
    "print('*****')"
   ]
  },
  {
   "cell_type": "code",
   "execution_count": 142,
   "metadata": {
    "collapsed": false
   },
   "outputs": [
    {
     "name": "stdout",
     "output_type": "stream",
     "text": [
      "1 [[<__main__.Car object at 0x109cfd5c0>, <__main__.Car object at 0x109cfd668>], [None, <__main__.Car object at 0x109d44cc0>], [None, None], [None, None]]\n",
      "*****\n",
      "2 [[<__main__.Car object at 0x109cfd5c0>, <__main__.Car object at 0x109cfd668>], [None, <__main__.Car object at 0x109d44cc0>], [None, None], [None, None]]\n",
      "*****\n",
      "3 [[<__main__.Car object at 0x109cfd5c0>, <__main__.Car object at 0x109cfd668>], [None, <__main__.Car object at 0x109d44cc0>], [None, None], [None, None]]\n",
      "*****\n"
     ]
    }
   ],
   "source": [
    "runProg(testRoad)"
   ]
  },
  {
   "cell_type": "code",
   "execution_count": 143,
   "metadata": {
    "collapsed": false
   },
   "outputs": [
    {
     "name": "stdout",
     "output_type": "stream",
     "text": [
      "1\n",
      "45.5\n",
      "-4.5\n"
     ]
    }
   ],
   "source": [
    "print(testRoad.road[0][0].id)\n",
    "print(testRoad.road[0][0].budget)\n",
    "print(testRoad.road[0][0].ledger)"
   ]
  },
  {
   "cell_type": "code",
   "execution_count": null,
   "metadata": {
    "collapsed": true
   },
   "outputs": [],
   "source": []
  },
  {
   "cell_type": "code",
   "execution_count": null,
   "metadata": {
    "collapsed": true
   },
   "outputs": [],
   "source": []
  }
 ],
 "metadata": {
  "anaconda-cloud": {},
  "kernelspec": {
   "display_name": "Python [default]",
   "language": "python",
   "name": "python3"
  },
  "language_info": {
   "codemirror_mode": {
    "name": "ipython",
    "version": 3
   },
   "file_extension": ".py",
   "mimetype": "text/x-python",
   "name": "python",
   "nbconvert_exporter": "python",
   "pygments_lexer": "ipython3",
   "version": "3.5.2"
  }
 },
 "nbformat": 4,
 "nbformat_minor": 1
}
