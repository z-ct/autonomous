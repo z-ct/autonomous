{
 "cells": [
  {
   "cell_type": "code",
   "execution_count": 5,
   "metadata": {
    "collapsed": false
   },
   "outputs": [],
   "source": [
    "import numpy as np"
   ]
  },
  {
   "cell_type": "code",
   "execution_count": 6,
   "metadata": {
    "collapsed": true
   },
   "outputs": [],
   "source": [
    "class Car:\n",
    "    def __init__(self, id, bid):\n",
    "        self.id = id\n",
    "        self.bid = bid\n",
    "        self.ledger = 0\n",
    "        \n",
    "    def __str__(self):\n",
    "         return str(id)\n"
   ]
  },
  {
   "cell_type": "code",
   "execution_count": 21,
   "metadata": {
    "collapsed": false
   },
   "outputs": [
    {
     "name": "stdout",
     "output_type": "stream",
     "text": [
      "4 1\n",
      "[[None, None], [None, None], [None, None], [None, None], [None, None]]\n",
      "******\n",
      "2 0\n",
      "[[None, <__main__.Car object at 0x7fa17c6b66d8>], [None, <__main__.Car object at 0x7fa17c6b66d8>], [None, <__main__.Car object at 0x7fa17c6b66d8>], [None, <__main__.Car object at 0x7fa17c6b66d8>], [None, <__main__.Car object at 0x7fa17c6b66d8>]]\n",
      "******\n",
      "[[<__main__.Car object at 0x7fa17c6b62b0>, <__main__.Car object at 0x7fa17c6b66d8>], [<__main__.Car object at 0x7fa17c6b62b0>, <__main__.Car object at 0x7fa17c6b66d8>], [<__main__.Car object at 0x7fa17c6b62b0>, <__main__.Car object at 0x7fa17c6b66d8>], [<__main__.Car object at 0x7fa17c6b62b0>, <__main__.Car object at 0x7fa17c6b66d8>], [<__main__.Car object at 0x7fa17c6b62b0>, <__main__.Car object at 0x7fa17c6b66d8>]]\n"
     ]
    }
   ],
   "source": [
    "class Road:\n",
    "    def __init__(self, length, lanes):\n",
    "        self.road = [[None]*lanes]*length\n",
    "        self.length = length\n",
    "        self.lanes = lanes\n",
    "        \n",
    "    def generate(self, nCars):\n",
    "        idx = 0\n",
    "        while idx < nCars:\n",
    "            car = Car(idx, np.random.uniform(low=1.0, high = 10.0))\n",
    "            i, j = np.random.randint(low=0, high=self.length), np.random.randint(low=0, high=self.lanes)\n",
    "            if self.road[i][j] is None:\n",
    "                print(i,j)\n",
    "                print(self.road)\n",
    "                print('******')\n",
    "                self.road[i][j] = car\n",
    "                idx += 1\n",
    "                \n",
    "        print(self.road)\n",
    "        \n",
    "road = Road(5, 2)\n",
    "road.generate(2)"
   ]
  }
 ],
 "metadata": {
  "anaconda-cloud": {},
  "kernelspec": {
   "display_name": "Python [Root]",
   "language": "python",
   "name": "Python [Root]"
  },
  "language_info": {
   "codemirror_mode": {
    "name": "ipython",
    "version": 3
   },
   "file_extension": ".py",
   "mimetype": "text/x-python",
   "name": "python",
   "nbconvert_exporter": "python",
   "pygments_lexer": "ipython3",
   "version": "3.5.2"
  }
 },
 "nbformat": 4,
 "nbformat_minor": 0
}
